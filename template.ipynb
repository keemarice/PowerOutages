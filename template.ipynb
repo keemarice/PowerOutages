{
 "cells": [
  {
   "cell_type": "markdown",
   "metadata": {},
   "source": [
    "# Power Outages\n",
    "\n",
    "**Name(s)**: Karsin Dass & Nicole Doyle\n",
    "\n",
    "**Website Link**: (your website link)"
   ]
  },
  {
   "cell_type": "code",
   "execution_count": 2,
   "metadata": {
    "ExecuteTime": {
     "end_time": "2019-10-31T23:36:28.652554Z",
     "start_time": "2019-10-31T23:36:27.180520Z"
    }
   },
   "outputs": [],
   "source": [
    "import pandas as pd\n",
    "import numpy as np\n",
    "\n",
    "import plotly.express as px\n",
    "pd.options.plotting.backend = 'plotly'\n",
    "\n",
    "# from lec_utils import * # Feel free to uncomment and use this. It'll make your plotly graphs look like ours in lecture!"
   ]
  },
  {
   "cell_type": "markdown",
   "metadata": {},
   "source": [
    "## Step 1: Introduction"
   ]
  },
  {
   "cell_type": "code",
   "execution_count": 3,
   "metadata": {},
   "outputs": [],
   "source": [
    "#Is there a specific day of the week and time of day where intentional attacks occur?  Do they occur more frequently in urban areas where more people are affected?"
   ]
  },
  {
   "cell_type": "markdown",
   "metadata": {},
   "source": [
    "## Step 2: Data Cleaning and Exploratory Data Analysis"
   ]
  },
  {
   "cell_type": "code",
   "execution_count": 12,
   "metadata": {
    "ExecuteTime": {
     "end_time": "2019-10-31T23:36:28.657068Z",
     "start_time": "2019-10-31T23:36:28.654650Z"
    }
   },
   "outputs": [
    {
     "name": "stdout",
     "output_type": "stream",
     "text": [
      "  variables  OBS    YEAR  MONTH U.S._STATE POSTAL.CODE NERC.REGION  \\\n",
      "1       NaN  1.0  2011.0    7.0  Minnesota          MN         MRO   \n",
      "2       NaN  2.0  2014.0    5.0  Minnesota          MN         MRO   \n",
      "3       NaN  3.0  2010.0   10.0  Minnesota          MN         MRO   \n",
      "4       NaN  4.0  2012.0    6.0  Minnesota          MN         MRO   \n",
      "5       NaN  5.0  2015.0    7.0  Minnesota          MN         MRO   \n",
      "\n",
      "       CLIMATE.REGION ANOMALY.LEVEL CLIMATE.CATEGORY  ... POPPCT_URBAN  \\\n",
      "1  East North Central          -0.3           normal  ...        73.27   \n",
      "2  East North Central          -0.1           normal  ...        73.27   \n",
      "3  East North Central          -1.5             cold  ...        73.27   \n",
      "4  East North Central          -0.1           normal  ...        73.27   \n",
      "5  East North Central           1.2             warm  ...        73.27   \n",
      "\n",
      "  POPPCT_UC POPDEN_URBAN POPDEN_UC POPDEN_RURAL AREAPCT_URBAN AREAPCT_UC  \\\n",
      "1     15.28         2279    1700.5         18.2          2.14        0.6   \n",
      "2     15.28         2279    1700.5         18.2          2.14        0.6   \n",
      "3     15.28         2279    1700.5         18.2          2.14        0.6   \n",
      "4     15.28         2279    1700.5         18.2          2.14        0.6   \n",
      "5     15.28         2279    1700.5         18.2          2.14        0.6   \n",
      "\n",
      "      PCT_LAND PCT_WATER_TOT  PCT_WATER_INLAND  \n",
      "1  91.59266587   8.407334131       5.478742983  \n",
      "2  91.59266587   8.407334131       5.478742983  \n",
      "3  91.59266587   8.407334131       5.478742983  \n",
      "4  91.59266587   8.407334131       5.478742983  \n",
      "5  91.59266587   8.407334131       5.478742983  \n",
      "\n",
      "[5 rows x 57 columns]\n"
     ]
    }
   ],
   "source": [
    "cleaned_data = pd.read_csv('outage.csv', skiprows=5)\n",
    "cleaned_data = cleaned_data.dropna(how='all', axis=1)\n",
    "cleaned_data = cleaned_data.dropna(how='all')\n",
    "cleaned_data = cleaned_data.drop(0)\n",
    "print(cleaned_data.head())\n",
    "\n"
   ]
  },
  {
   "cell_type": "code",
   "execution_count": 2,
   "metadata": {
    "ExecuteTime": {
     "end_time": "2019-10-31T23:36:28.662099Z",
     "start_time": "2019-10-31T23:36:28.660016Z"
    }
   },
   "outputs": [],
   "source": [
    "# TODO"
   ]
  },
  {
   "cell_type": "markdown",
   "metadata": {},
   "source": [
    "## Step 3: Framing a Prediction Problem"
   ]
  },
  {
   "cell_type": "code",
   "execution_count": null,
   "metadata": {
    "ExecuteTime": {
     "end_time": "2019-10-31T23:36:28.657068Z",
     "start_time": "2019-10-31T23:36:28.654650Z"
    }
   },
   "outputs": [],
   "source": [
    "# TODO"
   ]
  },
  {
   "cell_type": "markdown",
   "metadata": {},
   "source": [
    "## Step 4: Baseline Model"
   ]
  },
  {
   "cell_type": "code",
   "execution_count": null,
   "metadata": {
    "ExecuteTime": {
     "end_time": "2019-10-31T23:36:28.662099Z",
     "start_time": "2019-10-31T23:36:28.660016Z"
    }
   },
   "outputs": [],
   "source": [
    "# TODO"
   ]
  },
  {
   "cell_type": "markdown",
   "metadata": {},
   "source": [
    "## Step 5: Final Model"
   ]
  },
  {
   "cell_type": "code",
   "execution_count": null,
   "metadata": {
    "ExecuteTime": {
     "end_time": "2019-10-31T23:36:28.662099Z",
     "start_time": "2019-10-31T23:36:28.660016Z"
    }
   },
   "outputs": [],
   "source": [
    "# TODO"
   ]
  }
 ],
 "metadata": {
  "kernelspec": {
   "display_name": "Python 3 (ipykernel)",
   "language": "python",
   "name": "python3"
  },
  "language_info": {
   "codemirror_mode": {
    "name": "ipython",
    "version": 3
   },
   "file_extension": ".py",
   "mimetype": "text/x-python",
   "name": "python",
   "nbconvert_exporter": "python",
   "pygments_lexer": "ipython3",
   "version": "3.10.14"
  }
 },
 "nbformat": 4,
 "nbformat_minor": 4
}
